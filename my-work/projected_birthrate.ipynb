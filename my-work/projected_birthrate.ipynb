{
 "cells": [
  {
   "cell_type": "markdown",
   "id": "4e862ec7",
   "metadata": {},
   "source": [
    "Projected Birthrate workbook"
   ]
  },
  {
   "cell_type": "code",
   "execution_count": null,
   "id": "dd2d543e",
   "metadata": {},
   "outputs": [],
   "source": []
  }
 ],
 "metadata": {
  "kernelspec": {
   "display_name": "Python 3",
   "language": "python",
   "name": "python3"
  },
  "language_info": {
   "name": "python",
   "version": "3.13.7"
  }
 },
 "nbformat": 4,
 "nbformat_minor": 5
}
