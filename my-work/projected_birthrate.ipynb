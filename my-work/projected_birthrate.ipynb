{
 "cells": [
  {
   "cell_type": "markdown",
   "id": "4e862ec7",
   "metadata": {},
   "source": [
    "Projected Birthrate workbook"
   ]
  },
  {
   "cell_type": "code",
   "execution_count": 22,
   "id": "dd2d543e",
   "metadata": {},
   "outputs": [],
   "source": [
    "import os\n",
    "import pandas as pd\n",
    "\n",
    "#import the data from the cloned PFDA file location on the C drive. N.b. This file is linked to Andrew's github location, but this file will only be refreshed with any updates/changes when the git pull operation is performed. \n",
    "df = pd.read_csv(r\"C:\\Users\\catha\\Documents\\ATU\\PFDA-courseware\\code\\data\\projectedbirths-cso.csv\")"
   ]
  },
  {
   "cell_type": "code",
   "execution_count": null,
   "id": "f44a8ae3",
   "metadata": {},
   "outputs": [],
   "source": [
    "# split the Dataframe into the relevant columns we are interested in: year and projected births. \n"
   ]
  }
 ],
 "metadata": {
  "kernelspec": {
   "display_name": "Python 3",
   "language": "python",
   "name": "python3"
  },
  "language_info": {
   "codemirror_mode": {
    "name": "ipython",
    "version": 3
   },
   "file_extension": ".py",
   "mimetype": "text/x-python",
   "name": "python",
   "nbconvert_exporter": "python",
   "pygments_lexer": "ipython3",
   "version": "3.13.7"
  }
 },
 "nbformat": 4,
 "nbformat_minor": 5
}
